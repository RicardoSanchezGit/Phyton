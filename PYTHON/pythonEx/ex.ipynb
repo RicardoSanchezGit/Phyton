{
 "cells": [
  {
   "cell_type": "code",
   "execution_count": 1,
   "metadata": {},
   "outputs": [
    {
     "name": "stdout",
     "output_type": "stream",
     "text": [
      "è um prazer te conhecer, ricardo!\n"
     ]
    }
   ],
   "source": [
    "#exercicio2\n",
    "nome = input(\"Digite seu Nome:\")\n",
    "print(\"è um prazer te conhecer, {}!\".format(nome) )"
   ]
  },
  {
   "cell_type": "code",
   "execution_count": 1,
   "metadata": {},
   "outputs": [
    {
     "name": "stdout",
     "output_type": "stream",
     "text": [
      "A soma entre 1 e 1 é igual a : 2\n"
     ]
    }
   ],
   "source": [
    "#Exercicio03a\n",
    "n1 = int(input('Digite o valor:'))\n",
    "n2 = int(input('Digite outro valor:'))\n",
    "s = n1 + n2\n",
    "print('A soma entre {} e {} é igual a : {}'.format(n1,n2,s)) "
   ]
  },
  {
   "cell_type": "code",
   "execution_count": 1,
   "metadata": {},
   "outputs": [
    {
     "name": "stdout",
     "output_type": "stream",
     "text": [
      "A soma entre 1 e 1 é igual a : 11\n"
     ]
    }
   ],
   "source": [
    "#Exercicio3(errado)\n",
    "n1 = input('digite o valor')\n",
    "n2 = input('digite outro valor')\n",
    "s = n1+n2\n",
    "print('A soma entre {} e {} é igual a : {}'.format(n1,n2,s))"
   ]
  },
  {
   "cell_type": "code",
   "execution_count": 3,
   "metadata": {},
   "outputs": [
    {
     "name": "stdout",
     "output_type": "stream",
     "text": [
      "O tipo é:  <class 'str'>\n"
     ]
    }
   ],
   "source": [
    "#Verificando tipos primitivos de Dados\n",
    "n1 = input('digite um numero : ')\n",
    "print('O tipo é: ',type(n1))\n",
    "#por padrão em python os inputs lidos são string ou caracteres\n"
   ]
  },
  {
   "cell_type": "code",
   "execution_count": 6,
   "metadata": {},
   "outputs": [
    {
     "name": "stdout",
     "output_type": "stream",
     "text": [
      "Agora o tipo é  <class 'int'>\n"
     ]
    }
   ],
   "source": [
    "#PAra especificar o tipo primitivo é necessario Declarar o tipo de input que vai ser recebido\n",
    "n1 = int(input('Digite o valor: '))\n",
    "print('Agora o tipo é ',type(n1))"
   ]
  },
  {
   "cell_type": "code",
   "execution_count": 7,
   "metadata": {},
   "outputs": [
    {
     "name": "stdout",
     "output_type": "stream",
     "text": [
      "4.0\n",
      "<class 'float'>\n"
     ]
    }
   ],
   "source": [
    "#E com ponto flutuante\n",
    "n1 = float(input(n1))\n",
    "print(n1)\n",
    "print(type(n1))"
   ]
  },
  {
   "cell_type": "code",
   "execution_count": 8,
   "metadata": {},
   "outputs": [
    {
     "name": "stdout",
     "output_type": "stream",
     "text": [
      "<class 'bool'>\n"
     ]
    }
   ],
   "source": [
    "#E booleano\n",
    "n1 = bool(input(n1))\n",
    "print(type(n1))\n"
   ]
  },
  {
   "cell_type": "code",
   "execution_count": 11,
   "metadata": {},
   "outputs": [
    {
     "name": "stdout",
     "output_type": "stream",
     "text": [
      "é numerico? True\n",
      "é apha False\n",
      "é alphanumerico? True\n"
     ]
    }
   ],
   "source": [
    "#e Testes booleanos para saber se é numero\n",
    "n = input('digite algo')\n",
    "print('é numerico?', n.isnumeric())\n",
    "print('é apha', n.isalpha())\n",
    "print('é alphanumerico?', n.isalnum())\n"
   ]
  },
  {
   "cell_type": "code",
   "execution_count": 1,
   "metadata": {},
   "outputs": [
    {
     "name": "stdout",
     "output_type": "stream",
     "text": [
      "<class 'str'>\n",
      "è só espaços? False\n",
      "é numerico? False\n",
      "é apha True\n",
      "é alphanumerico? True\n",
      "é maiúscula? True\n",
      "é minúscula? False\n",
      "Está capitalizada? True\n"
     ]
    }
   ],
   "source": [
    "#Desafio004\n",
    "n = input('digite algo')\n",
    "print(type(n))\n",
    "print('è só espaços?',n.isspace())\n",
    "print('é numerico?', n.isnumeric())\n",
    "print('é apha', n.isalpha())\n",
    "print('é alphanumerico?', n.isalnum())\n",
    "print('é maiúscula?', n.isupper())\n",
    "print('é minúscula?', n.islower())\n",
    "print('Está capitalizada?', n.istitle())"
   ]
  },
  {
   "cell_type": "code",
   "execution_count": 12,
   "metadata": {},
   "outputs": [
    {
     "name": "stdout",
     "output_type": "stream",
     "text": [
      "O numero 8, seu antecessor é 7, e o antecessor respectivo é 6\n"
     ]
    }
   ],
   "source": [
    "#Desafio 05\n",
    "#Faça um programa que leia um numero inteiro e mostre seus 2 antecessores \n",
    "n = int(input('Digite um numero :'))\n",
    "print('O numero {}, seu antecessor é {}, e o antecessor respectivo é {}'.format(n,n-1,n-2))\n"
   ]
  },
  {
   "cell_type": "code",
   "execution_count": 13,
   "metadata": {},
   "outputs": [
    {
     "name": "stdout",
     "output_type": "stream",
     "text": [
      "o dobro é : 4 \n",
      " O triplo é : 6, e sua raiz quadrada é : 4\n"
     ]
    }
   ],
   "source": [
    "#Desafio 06\n",
    "#Crie um algoritimo que leia um numero e mostre seu dobro, triplo, e raiz quadrada\n",
    "n = int(input('Digite um numero :'))\n",
    "print('o dobro é : {} \\n O triplo é : {}\\n, e sua raiz quadrada é : {}'.format(n*2,n*3,n**2))"
   ]
  },
  {
   "cell_type": "code",
   "execution_count": 14,
   "metadata": {},
   "outputs": [
    {
     "name": "stdout",
     "output_type": "stream",
     "text": [
      " A nota deste aluno é 7.5\n"
     ]
    }
   ],
   "source": [
    "#Desafio 07\n",
    "#Desenvolva um programa que leia duas notas de um aluno e mostre sua media \n",
    "n1 = float(input('Digite a Primeira nota :'))\n",
    "n2 = float(input('digite a segunda nota :'))\n",
    "r = (n1+n2)/2\n",
    "print(\" A nota deste aluno é {:.2}\".format(r))"
   ]
  },
  {
   "cell_type": "code",
   "execution_count": 16,
   "metadata": {},
   "outputs": [
    {
     "name": "stdout",
     "output_type": "stream",
     "text": [
      "A metragem é 1.0, em centimetros 100.0, e em millimetro é 1000.0\n"
     ]
    }
   ],
   "source": [
    "#Desafio 08 \n",
    "#Desenvolva um programa leia um valor em metros e converta seu valor para centimetros e milimetros}\n",
    "n = float(input('Digite o tamanho em metros :'))\n",
    "c = n*100\n",
    "mm = n*1000\n",
    "print('A metragem é {}, em centimetros {}, e em millimetro é {}'.format(n,c,mm))"
   ]
  },
  {
   "cell_type": "code",
   "execution_count": 18,
   "metadata": {},
   "outputs": [
    {
     "name": "stdout",
     "output_type": "stream",
     "text": [
      " 1x0=0 \n",
      " 1x1=1 \n",
      " 1x2=2 \n",
      " 1x3=3 \n",
      " 1x4=4 \n",
      " 1x5=5\n",
      " 1x6=6\n",
      " 1x7=7\n",
      " 1x8=8\n",
      " 1x9=9\n",
      " 1x10=10\n",
      " \n"
     ]
    }
   ],
   "source": [
    "#Desafio 09\n",
    "#Faça um programa que leia um numero inteiro e mostre sua tabuada\n",
    "n = int(input('Digite um numero'))\n",
    "print(\" {}x0={} \\n {}x1={} \\n {}x2={} \\n {}x3={} \\n {}x4={} \\n {}x5={}\\n {}x6={}\\n {}x7={}\\n {}x8={}\\n {}x9={}\\n {}x10={}\\n \".format(n,n*0,n,n*1,n,n*2,n,n*3,n,n*4,n,n*5,n,n*6,n,n*7,n,n*8,n,n*9,n,n*10))"
   ]
  },
  {
   "cell_type": "code",
   "execution_count": 1,
   "metadata": {},
   "outputs": [
    {
     "name": "stdout",
     "output_type": "stream",
     "text": [
      "A quantia R$32.7 pode ser em $10.0\n"
     ]
    }
   ],
   "source": [
    "#Desafio 10\n",
    "#Crie um programa que leia quantos reais tem em uma carteira e quantos dolares esta mesma pode comprar R$ 3.27 = $1.00\n",
    "n = float(input(\"quantos Reais você tem? \"))\n",
    "print('A quantia R${} pode ser em ${:.3}'.format(n,n/3.27))"
   ]
  },
  {
   "cell_type": "code",
   "execution_count": 22,
   "metadata": {},
   "outputs": [
    {
     "name": "stdout",
     "output_type": "stream",
     "text": [
      "A area da sua parede é 30.0, e será nescessario um total de 15.0 Litros de tinta para pinta-la\n"
     ]
    }
   ],
   "source": [
    "#Desafio 11\n",
    "#Faça um programa que leia a largura e a altura de uma parede em metros e calcule a sua área e a quantidade de tinta nescessaria para pinta-la, sabendo que cada litro de tinta cobre 2m^2.\n",
    "h = float(input('Qual a altura da sua parede?'))\n",
    "l = float(input(\"qual A largura da sua parede?\"))\n",
    "t = (h*l)/2\n",
    "print('A area da sua parede é {}, e será nescessario um total de {} Litros de tinta para pinta-la'.format(h*l, t))"
   ]
  },
  {
   "cell_type": "code",
   "execution_count": 52,
   "metadata": {},
   "outputs": [
    {
     "name": "stdout",
     "output_type": "stream",
     "text": [
      "O valor com 5 porcento de desconto é 9.5e+02\n"
     ]
    }
   ],
   "source": [
    "#Desafio 12 \n",
    "# faça um programa que mostre o desconto de um produto baseado no seu preço e subtraindo 5% do mesmo.\n",
    "n = float(input(\"qual o preço do produto?\"))\n",
    "d = n-(n*0.05)\n",
    "print('O valor com 5 porcento de desconto é {:.2f}'.format(d))"
   ]
  },
  {
   "cell_type": "code",
   "execution_count": 54,
   "metadata": {},
   "outputs": [
    {
     "name": "stdout",
     "output_type": "stream",
     "text": [
      "O salário com 15 porcento de aumento é 1150.00\n"
     ]
    }
   ],
   "source": [
    "#Desafio 13 \n",
    "# faça um programa que leia um salário e depois com 15% de aumento\n",
    "n = float(input(\"valor do salario atual é :\"))\n",
    "a = n+(n*0.15)\n",
    "print(\"O salário com 15 porcento de aumento é {:.2f}\".format(a))"
   ]
  },
  {
   "cell_type": "code",
   "execution_count": null,
   "metadata": {},
   "outputs": [],
   "source": []
  }
 ],
 "metadata": {
  "kernelspec": {
   "display_name": "Python 3",
   "language": "python",
   "name": "python3"
  },
  "language_info": {
   "codemirror_mode": {
    "name": "ipython",
    "version": 3
   },
   "file_extension": ".py",
   "mimetype": "text/x-python",
   "name": "python",
   "nbconvert_exporter": "python",
   "pygments_lexer": "ipython3",
   "version": "3.12.3"
  }
 },
 "nbformat": 4,
 "nbformat_minor": 2
}
