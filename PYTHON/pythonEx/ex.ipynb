{
 "cells": [
  {
   "cell_type": "code",
   "execution_count": 1,
   "metadata": {},
   "outputs": [
    {
     "name": "stdout",
     "output_type": "stream",
     "text": [
      "è um prazer te conhecer, ricardo!\n"
     ]
    }
   ],
   "source": [
    "#exercicio2\n",
    "nome = input(\"Digite seu Nome:\")\n",
    "print(\"è um prazer te conhecer, {}!\".format(nome) )"
   ]
  },
  {
   "cell_type": "code",
   "execution_count": 1,
   "metadata": {},
   "outputs": [
    {
     "name": "stdout",
     "output_type": "stream",
     "text": [
      "A soma entre 1 e 1 é igual a : 2\n"
     ]
    }
   ],
   "source": [
    "#Exercicio03a\n",
    "n1 = int(input('Digite o valor:'))\n",
    "n2 = int(input('Digite outro valor:'))\n",
    "s = n1 + n2\n",
    "print('A soma entre {} e {} é igual a : {}'.format(n1,n2,s)) "
   ]
  },
  {
   "cell_type": "code",
   "execution_count": 1,
   "metadata": {},
   "outputs": [
    {
     "name": "stdout",
     "output_type": "stream",
     "text": [
      "A soma entre 1 e 1 é igual a : 11\n"
     ]
    }
   ],
   "source": [
    "#Exercicio3(errado)\n",
    "n1 = input('digite o valor')\n",
    "n2 = input('digite outro valor')\n",
    "s = n1+n2\n",
    "print('A soma entre {} e {} é igual a : {}'.format(n1,n2,s))"
   ]
  },
  {
   "cell_type": "code",
   "execution_count": 3,
   "metadata": {},
   "outputs": [
    {
     "name": "stdout",
     "output_type": "stream",
     "text": [
      "O tipo é:  <class 'str'>\n"
     ]
    }
   ],
   "source": [
    "#Verificando tipos primitivos de Dados\n",
    "n1 = input('digite um numero : ')\n",
    "print('O tipo é: ',type(n1))\n",
    "#por padrão em python os inputs lidos são string ou caracteres\n"
   ]
  },
  {
   "cell_type": "code",
   "execution_count": 6,
   "metadata": {},
   "outputs": [
    {
     "name": "stdout",
     "output_type": "stream",
     "text": [
      "Agora o tipo é  <class 'int'>\n"
     ]
    }
   ],
   "source": [
    "#PAra especificar o tipo primitivo é necessario Declarar o tipo de input que vai ser recebido\n",
    "n1 = int(input('Digite o valor: '))\n",
    "print('Agora o tipo é ',type(n1))"
   ]
  },
  {
   "cell_type": "code",
   "execution_count": 7,
   "metadata": {},
   "outputs": [
    {
     "name": "stdout",
     "output_type": "stream",
     "text": [
      "4.0\n",
      "<class 'float'>\n"
     ]
    }
   ],
   "source": [
    "#E com ponto flutuante\n",
    "n1 = float(input(n1))\n",
    "print(n1)\n",
    "print(type(n1))"
   ]
  },
  {
   "cell_type": "code",
   "execution_count": 8,
   "metadata": {},
   "outputs": [
    {
     "name": "stdout",
     "output_type": "stream",
     "text": [
      "<class 'bool'>\n"
     ]
    }
   ],
   "source": [
    "#E booleano\n",
    "n1 = bool(input(n1))\n",
    "print(type(n1))\n"
   ]
  },
  {
   "cell_type": "code",
   "execution_count": 11,
   "metadata": {},
   "outputs": [
    {
     "name": "stdout",
     "output_type": "stream",
     "text": [
      "é numerico? True\n",
      "é apha False\n",
      "é alphanumerico? True\n"
     ]
    }
   ],
   "source": [
    "#e Testes booleanos para saber se é numero\n",
    "n = input('digite algo')\n",
    "print('é numerico?', n.isnumeric())\n",
    "print('é apha', n.isalpha())\n",
    "print('é alphanumerico?', n.isalnum())\n"
   ]
  },
  {
   "cell_type": "code",
   "execution_count": 2,
   "metadata": {},
   "outputs": [
    {
     "name": "stdout",
     "output_type": "stream",
     "text": [
      "<class 'str'>\n",
      "é numerico? False\n",
      "é apha False\n",
      "é alphanumerico? True\n"
     ]
    }
   ],
   "source": [
    "#Desafio004\n",
    "n = input('digite algo')\n",
    "print(type(n))\n",
    "print('è só espaços?',n.isspace())\n",
    "print('é numerico?', n.isnumeric())\n",
    "print('é apha', n.isalpha())\n",
    "print('é alphanumerico?', n.isalnum())\n",
    "print('é maiúscula?', n.isupper())\n",
    "print('é minúscula?', n.islower())\n",
    "print('Está capitalizada?', n.istitle())"
   ]
  },
  {
   "cell_type": "code",
   "execution_count": null,
   "metadata": {},
   "outputs": [],
   "source": []
  }
 ],
 "metadata": {
  "kernelspec": {
   "display_name": "Python 3",
   "language": "python",
   "name": "python3"
  },
  "language_info": {
   "codemirror_mode": {
    "name": "ipython",
    "version": 3
   },
   "file_extension": ".py",
   "mimetype": "text/x-python",
   "name": "python",
   "nbconvert_exporter": "python",
   "pygments_lexer": "ipython3",
   "version": "3.12.3"
  }
 },
 "nbformat": 4,
 "nbformat_minor": 2
}
