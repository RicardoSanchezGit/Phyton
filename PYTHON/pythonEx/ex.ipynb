{
 "cells": [
  {
   "cell_type": "code",
   "execution_count": 1,
   "metadata": {},
   "outputs": [
    {
     "name": "stdout",
     "output_type": "stream",
     "text": [
      "è um prazer te conhecer, ricardo!\n"
     ]
    }
   ],
   "source": [
    "#exercicio2\n",
    "nome = input(\"Digite seu Nome:\")\n",
    "print(\"è um prazer te conhecer, {}!\".format(nome) )"
   ]
  },
  {
   "cell_type": "code",
   "execution_count": 1,
   "metadata": {},
   "outputs": [
    {
     "name": "stdout",
     "output_type": "stream",
     "text": [
      "A soma entre 1 e 1 é igual a : 2\n"
     ]
    }
   ],
   "source": [
    "#Exercicio03a\n",
    "n1 = int(input('Digite o valor:'))\n",
    "n2 = int(input('Digite outro valor:'))\n",
    "s = n1 + n2\n",
    "print('A soma entre {} e {} é igual a : {}'.format(n1,n2,s)) "
   ]
  },
  {
   "cell_type": "code",
   "execution_count": 1,
   "metadata": {},
   "outputs": [
    {
     "name": "stdout",
     "output_type": "stream",
     "text": [
      "A soma entre 1 e 1 é igual a : 11\n"
     ]
    }
   ],
   "source": [
    "#Exercicio3(errado)\n",
    "n1 = input('digite o valor')\n",
    "n2 = input('digite outro valor')\n",
    "s = n1+n2\n",
    "print('A soma entre {} e {} é igual a : {}'.format(n1,n2,s))"
   ]
  },
  {
   "cell_type": "code",
   "execution_count": 3,
   "metadata": {},
   "outputs": [
    {
     "name": "stdout",
     "output_type": "stream",
     "text": [
      "O tipo é:  <class 'str'>\n"
     ]
    }
   ],
   "source": [
    "#Verificando tipos primitivos de Dados\n",
    "n1 = input('digite um numero : ')\n",
    "print('O tipo é: ',type(n1))\n",
    "#por padrão em python os inputs lidos são string ou caracteres\n"
   ]
  },
  {
   "cell_type": "code",
   "execution_count": 6,
   "metadata": {},
   "outputs": [
    {
     "name": "stdout",
     "output_type": "stream",
     "text": [
      "Agora o tipo é  <class 'int'>\n"
     ]
    }
   ],
   "source": [
    "#PAra especificar o tipo primitivo é necessario Declarar o tipo de input que vai ser recebido\n",
    "n1 = int(input('Digite o valor: '))\n",
    "print('Agora o tipo é ',type(n1))"
   ]
  },
  {
   "cell_type": "code",
   "execution_count": 7,
   "metadata": {},
   "outputs": [
    {
     "name": "stdout",
     "output_type": "stream",
     "text": [
      "4.0\n",
      "<class 'float'>\n"
     ]
    }
   ],
   "source": [
    "#E com ponto flutuante\n",
    "n1 = float(input(n1))\n",
    "print(n1)\n",
    "print(type(n1))"
   ]
  },
  {
   "cell_type": "code",
   "execution_count": 8,
   "metadata": {},
   "outputs": [
    {
     "name": "stdout",
     "output_type": "stream",
     "text": [
      "<class 'bool'>\n"
     ]
    }
   ],
   "source": [
    "#E booleano\n",
    "n1 = bool(input(n1))\n",
    "print(type(n1))\n"
   ]
  },
  {
   "cell_type": "code",
   "execution_count": 11,
   "metadata": {},
   "outputs": [
    {
     "name": "stdout",
     "output_type": "stream",
     "text": [
      "é numerico? True\n",
      "é apha False\n",
      "é alphanumerico? True\n"
     ]
    }
   ],
   "source": [
    "#e Testes booleanos para saber se é numero\n",
    "n = input('digite algo')\n",
    "print('é numerico?', n.isnumeric())\n",
    "print('é apha', n.isalpha())\n",
    "print('é alphanumerico?', n.isalnum())\n"
   ]
  },
  {
   "cell_type": "code",
   "execution_count": 1,
   "metadata": {},
   "outputs": [
    {
     "name": "stdout",
     "output_type": "stream",
     "text": [
      "<class 'str'>\n",
      "è só espaços? False\n",
      "é numerico? False\n",
      "é apha True\n",
      "é alphanumerico? True\n",
      "é maiúscula? True\n",
      "é minúscula? False\n",
      "Está capitalizada? True\n"
     ]
    }
   ],
   "source": [
    "#Desafio004\n",
    "n = input('digite algo')\n",
    "print(type(n))\n",
    "print('è só espaços?',n.isspace())\n",
    "print('é numerico?', n.isnumeric())\n",
    "print('é apha', n.isalpha())\n",
    "print('é alphanumerico?', n.isalnum())\n",
    "print('é maiúscula?', n.isupper())\n",
    "print('é minúscula?', n.islower())\n",
    "print('Está capitalizada?', n.istitle())"
   ]
  },
  {
   "cell_type": "code",
   "execution_count": 12,
   "metadata": {},
   "outputs": [
    {
     "name": "stdout",
     "output_type": "stream",
     "text": [
      "O numero 8, seu antecessor é 7, e o antecessor respectivo é 6\n"
     ]
    }
   ],
   "source": [
    "#Desafio 05\n",
    "#Faça um programa que leia um numero inteiro e mostre seu sucessor e antecessor\n",
    "n = int(input('Digite um numero :'))\n",
    "print('O numero {}, seu sucessor é {}, e o antecessor é {}'.format(n,n+1,n-1))\n"
   ]
  },
  {
   "cell_type": "code",
   "execution_count": 1,
   "metadata": {},
   "outputs": [
    {
     "name": "stdout",
     "output_type": "stream",
     "text": [
      "o dobro é : 8 \n",
      " O triplo é : 12\n",
      ", e sua raiz quadrada é : 2.0\n"
     ]
    }
   ],
   "source": [
    "#Desafio 06\n",
    "#Crie um algoritimo que leia um numero e mostre seu dobro, triplo, e raiz quadrada\n",
    "n = int(input('Digite um numero :'))\n",
    "print('o dobro é : {} \\n O triplo é : {}\\n, e sua raiz quadrada é : {}'.format(n*2,n*3,n**1/2))"
   ]
  },
  {
   "cell_type": "code",
   "execution_count": 2,
   "metadata": {},
   "outputs": [
    {
     "ename": "SyntaxError",
     "evalue": "invalid syntax (1277751553.py, line 6)",
     "output_type": "error",
     "traceback": [
      "\u001b[1;36m  Cell \u001b[1;32mIn[2], line 6\u001b[1;36m\u001b[0m\n\u001b[1;33m    print(\" A nota deste aluno é {:.2}\".format( *args: r))\u001b[0m\n\u001b[1;37m                                                     ^\u001b[0m\n\u001b[1;31mSyntaxError\u001b[0m\u001b[1;31m:\u001b[0m invalid syntax\n"
     ]
    }
   ],
   "source": [
    "#Desafio 07\n",
    "#Desenvolva um programa que leia duas notas de um aluno e mostre sua media \n",
    "n1 = float(input('Digite a Primeira nota :'))\n",
    "n2 = float(input('digite a segunda nota :'))\n",
    "r = (n1+n2)/2\n",
    "print(\" A nota deste aluno é {:.2}\".format(r))"
   ]
  },
  {
   "cell_type": "code",
   "execution_count": 16,
   "metadata": {},
   "outputs": [
    {
     "name": "stdout",
     "output_type": "stream",
     "text": [
      "A metragem é 1.0, em centimetros 100.0, e em millimetro é 1000.0\n"
     ]
    }
   ],
   "source": [
    "#Desafio 08 \n",
    "#Desenvolva um programa leia um valor em metros e converta seu valor para centimetros e milimetros}\n",
    "n = float(input('Digite o tamanho em metros :'))\n",
    "c = n*100\n",
    "mm = n*1000\n",
    "print('A metragem é {}, em centimetros {}, e em millimetro é {}'.format(n,c,mm))"
   ]
  },
  {
   "cell_type": "code",
   "execution_count": 18,
   "metadata": {},
   "outputs": [
    {
     "name": "stdout",
     "output_type": "stream",
     "text": [
      " 1x0=0 \n",
      " 1x1=1 \n",
      " 1x2=2 \n",
      " 1x3=3 \n",
      " 1x4=4 \n",
      " 1x5=5\n",
      " 1x6=6\n",
      " 1x7=7\n",
      " 1x8=8\n",
      " 1x9=9\n",
      " 1x10=10\n",
      " \n"
     ]
    }
   ],
   "source": [
    "#Desafio 09\n",
    "#Faça um programa que leia um numero inteiro e mostre sua tabuada\n",
    "n = int(input('Digite um numero'))\n",
    "print(\" {}x0={} \\n {}x1={} \\n {}x2={} \\n {}x3={} \\n {}x4={} \\n {}x5={}\\n {}x6={}\\n {}x7={}\\n {}x8={}\\n {}x9={}\\n {}x10={}\\n \".format(n,n*0,n,n*1,n,n*2,n,n*3,n,n*4,n,n*5,n,n*6,n,n*7,n,n*8,n,n*9,n,n*10))"
   ]
  },
  {
   "cell_type": "code",
   "execution_count": 1,
   "metadata": {},
   "outputs": [
    {
     "name": "stdout",
     "output_type": "stream",
     "text": [
      "A quantia R$32.7 pode ser em $10.0\n"
     ]
    }
   ],
   "source": [
    "#Desafio 10\n",
    "#Crie um programa que leia quantos reais tem em uma carteira e quantos dolares esta mesma pode comprar R$ 3.27 = $1.00\n",
    "n = float(input(\"quantos Reais você tem? \"))\n",
    "print('A quantia R${} pode ser em ${:.3}'.format(n,n/3.27))"
   ]
  },
  {
   "cell_type": "code",
   "execution_count": 22,
   "metadata": {},
   "outputs": [
    {
     "name": "stdout",
     "output_type": "stream",
     "text": [
      "A area da sua parede é 30.0, e será nescessario um total de 15.0 Litros de tinta para pinta-la\n"
     ]
    }
   ],
   "source": [
    "#Desafio 11\n",
    "#Faça um programa que leia a largura e a altura de uma parede em metros e calcule a sua área e a quantidade de tinta nescessaria para pinta-la, sabendo que cada litro de tinta cobre 2m^2.\n",
    "h = float(input('Qual a altura da sua parede?'))\n",
    "l = float(input(\"qual A largura da sua parede?\"))\n",
    "t = (h*l)/2\n",
    "print('A area da sua parede é {}, e será nescessario um total de {} Litros de tinta para pinta-la'.format(h*l, t))"
   ]
  },
  {
   "cell_type": "code",
   "execution_count": 52,
   "metadata": {},
   "outputs": [
    {
     "name": "stdout",
     "output_type": "stream",
     "text": [
      "O valor com 5 porcento de desconto é 9.5e+02\n"
     ]
    }
   ],
   "source": [
    "#Desafio 12 \n",
    "# faça um programa que mostre o desconto de um produto baseado no seu preço e subtraindo 5% do mesmo.\n",
    "n = float(input(\"qual o preço do produto?\"))\n",
    "d = n-(n*0.05)\n",
    "print('O valor com 5 porcento de desconto é {:.2f}'.format(d))"
   ]
  },
  {
   "cell_type": "code",
   "execution_count": 54,
   "metadata": {},
   "outputs": [
    {
     "name": "stdout",
     "output_type": "stream",
     "text": [
      "O salário com 15 porcento de aumento é 1150.00\n"
     ]
    }
   ],
   "source": [
    "#Desafio 13 \n",
    "# faça um programa que leia um salário e depois com 15% de aumento\n",
    "n = float(input(\"valor do salario atual é :\"))\n",
    "a = n+(n*0.15)\n",
    "print(\"O salário com 15 porcento de aumento é {:.2f}\".format(a))"
   ]
  },
  {
   "cell_type": "code",
   "execution_count": 2,
   "metadata": {},
   "outputs": [
    {
     "name": "stdout",
     "output_type": "stream",
     "text": [
      "23.0°C é equivamente a 73.4 em °F\n"
     ]
    }
   ],
   "source": [
    "#Desafio 14\n",
    "#faça um programa que leia uma temperatura em graus °C e converta pra °f\n",
    "\n",
    "c = float(input(\"Quantos graus está em °C?\"))\n",
    "print(\"{}°C é equivamente a {} em °F\".format(c,((c*(9/5))+32)))"
   ]
  },
  {
   "cell_type": "code",
   "execution_count": 9,
   "metadata": {},
   "outputs": [
    {
     "name": "stdout",
     "output_type": "stream",
     "text": [
      "Aluguel(Diária) : R$180.00\n",
      "Kilometragem : R$52.50\n",
      "Total : R$232.50 \n"
     ]
    }
   ],
   "source": [
    "#Desafio 15 \n",
    "#Escreva um programa que pergunte a quantidade de Km percorridos por um carro alugado e a quantidade de dias pelos quais ele foi alugado.calcule o preço a pagar , sabendo que o carro custa R$60.0 por dia e R$0.15 por Km Rodado.\n",
    "\n",
    "a = float(input(\"por quantos dias você utilizou o carro?\"))\n",
    "km = float(input(\"E quantos Kilometros foram rodados?\"))\n",
    "print(\"Aluguel(Diária) : R${:.2f}\\nKilometragem : R${:.2f}\\nTotal : R${:.2f} \".format(a*60,km*0.15,(a*60)+(km*0.15)))"
   ]
  },
  {
   "cell_type": "code",
   "execution_count": 24,
   "metadata": {},
   "outputs": [
    {
     "name": "stdout",
     "output_type": "stream",
     "text": [
      "A parte Inteira de 6.127 é 6\n"
     ]
    }
   ],
   "source": [
    "#desafio 16 \n",
    "#faça um programa que Leia um numero real e só mostre a parte inteira do mes\n",
    "from math import trunc\n",
    "\n",
    "num = float(input(\"digite um numero !\"))\n",
    "print(\"A parte Inteira de {} é {}\".format(num,trunc(num)))"
   ]
  },
  {
   "cell_type": "code",
   "execution_count": 25,
   "metadata": {},
   "outputs": [
    {
     "name": "stdout",
     "output_type": "stream",
     "text": [
      "A hipotenusa desse triangulo retangulo é 10.0\n"
     ]
    }
   ],
   "source": [
    "#Desafio 17 \n",
    "#faça um programa que leia o cateto oposto e um cateto adjacente e com essas informações descubra a hipotenusa \n",
    "import math\n",
    "catA = float(input(\"digite o cateto adjacente:\"))\n",
    "catO = float(input(\"digite o cateto oposto:\"))\n",
    "#hipo = math.pow(catA,2) + math.pow(catO,2)\n",
    "print(\"A hipotenusa desse triangulo retangulo é {}\".format(math.hypot(catA, catO)))"
   ]
  },
  {
   "cell_type": "code",
   "execution_count": 23,
   "metadata": {},
   "outputs": [
    {
     "name": "stdout",
     "output_type": "stream",
     "text": [
      "O seno é 0.70711, o coseno é 0.70711 e a tangente é 1.00000\n"
     ]
    }
   ],
   "source": [
    "#desafio 18\n",
    "#Digite um angulo e o programa deve dizer o seno ,cosseno e tangente do angulo\n",
    "import math\n",
    "ang = float(input(\"Digite o angulo desejado\"))\n",
    "seno = math.sin(math.radians(ang))\n",
    "cos = math.cos(math.radians(ang))\n",
    "tan = math.tan(math.radians(ang))\n",
    "print(\"O seno é {:.5f}, o coseno é {:.5f} e a tangente é {:.5f}\".format(seno,cos,tan))"
   ]
  },
  {
   "cell_type": "code",
   "execution_count": 4,
   "metadata": {},
   "outputs": [
    {
     "name": "stdout",
     "output_type": "stream",
     "text": [
      "O aluno sorteado é 4!\n"
     ]
    }
   ],
   "source": [
    "#Desafio 19 \n",
    "#faça um codigo que sorteie um aluno\n",
    "from random import choice\n",
    "alu = input(\"Nome do primeiro aluno\")\n",
    "alu1 = input(\"Nome do segundo aluno\")\n",
    "alu2 = input(\"Nome do terceito aluno\")\n",
    "alu3 = input(\"Nome do quarto aluno\")\n",
    "alunos = [alu,alu1,alu2,alu3]\n",
    "sorteado = choice(alunos)\n",
    "print(\"O aluno sorteado é {}!\".format(sorteado))"
   ]
  },
  {
   "cell_type": "code",
   "execution_count": 7,
   "metadata": {},
   "outputs": [
    {
     "name": "stdout",
     "output_type": "stream",
     "text": [
      "O aluno sorteado é ['3', '1', '4', '2']!\n"
     ]
    }
   ],
   "source": [
    "#Desafio 20\n",
    "#Faça um codigo que defina a ordem dew apresentação de grupos\n",
    "\n",
    "from random import shuffle\n",
    "alu = str(input(\"Nome do primeiro aluno\"))\n",
    "alu1 = str(input(\"Nome do segundo aluno\"))\n",
    "alu2 = str(input(\"Nome do terceito aluno\"))\n",
    "alu3 = str(input(\"Nome do quarto aluno\"))\n",
    "alunos = [alu,alu1,alu2,alu3]\n",
    "shuffle(alunos)\n",
    "print(\"O aluno sorteado é {}!\".format(alunos))"
   ]
  },
  {
   "cell_type": "code",
   "execution_count": 35,
   "metadata": {},
   "outputs": [],
   "source": [
    "#Desafio 21 \n",
    "#faça um codigo que toque um arquivo mp3\n",
    "import pygame\n",
    "\n",
    "pygame.init()\n",
    "pygame.mixer.music.load('ex21.mp3')\n",
    "pygame.mixer.music.play()\n",
    "x = input(\"Pressione enter para parar de tocar a musica!\")\n",
    "pygame.mixer.music.stop()\n"
   ]
  },
  {
   "cell_type": "code",
   "execution_count": 16,
   "metadata": {},
   "outputs": [
    {
     "name": "stdout",
     "output_type": "stream",
     "text": [
      "AGNER MENDES DE ALMEIDA\n",
      "agner mendes de almeida\n",
      "20\n",
      "5\n"
     ]
    }
   ],
   "source": [
    "#desafio 22\n",
    "#crie um programa que leia o nome de uma pessoa e mostre o nome com;Todas as letras maiusculas,O nome com todas minusculas,quantas letras tem ao todo sem considerar os espaços,quantas letras tem o primeiro nome\n",
    "nome= input(\"digite o nome\")\n",
    "print(nome.upper())\n",
    "print(nome.lower())\n",
    "print(len(nome.replace(\" \",\"\")))\n",
    "print(len(nome.split()[0]))"
   ]
  },
  {
   "cell_type": "code",
   "execution_count": 24,
   "metadata": {},
   "outputs": [
    {
     "name": "stdout",
     "output_type": "stream",
     "text": [
      "O Número digitado é; 00012\n",
      "Unidade; 2\n",
      "Dezena; 1\n",
      "Centena; 0\n",
      "Milhar; 0\n"
     ]
    }
   ],
   "source": [
    "#desafio23\n",
    "#faça um programa que leia um numero de 0 a 9999 e mostre na tela cada um dos digitos separados\n",
    "#exemplo = 1834\n",
    "#unidade:4\n",
    "#dezena:3\n",
    "#centena:8\n",
    "#milhar:1\n",
    "\n",
    "n = str(input(\"Digite um numero de 0 a 9999\"))\n",
    "n = \"000\" + n\n",
    "inv = n[::-1]\n",
    "print(\"O Número digitado é; {}\".format(n))\n",
    "print(\"Unidade; {}\".format(inv[0]))\n",
    "print(\"Dezena; {}\".format(inv[1]))\n",
    "print(\"Centena; {}\".format(inv[2]))\n",
    "print(\"Milhar; {}\".format(inv[3]))\n"
   ]
  },
  {
   "cell_type": "code",
   "execution_count": null,
   "metadata": {},
   "outputs": [],
   "source": []
  }
 ],
 "metadata": {
  "kernelspec": {
   "display_name": "Python 3",
   "language": "python",
   "name": "python3"
  },
  "language_info": {
   "codemirror_mode": {
    "name": "ipython",
    "version": 3
   },
   "file_extension": ".py",
   "mimetype": "text/x-python",
   "name": "python",
   "nbconvert_exporter": "python",
   "pygments_lexer": "ipython3",
   "version": "3.12.3"
  }
 },
 "nbformat": 4,
 "nbformat_minor": 2
}
