{
 "cells": [
  {
   "cell_type": "code",
   "execution_count": 2,
   "metadata": {},
   "outputs": [
    {
     "name": "stdout",
     "output_type": "stream",
     "text": [
      "olá, Mundo!\n"
     ]
    }
   ],
   "source": [
    "#Primeiro Print\n",
    "print ('olá, Mundo!')"
   ]
  },
  {
   "cell_type": "code",
   "execution_count": 3,
   "metadata": {},
   "outputs": [
    {
     "name": "stdout",
     "output_type": "stream",
     "text": [
      "11\n",
      "47\n"
     ]
    }
   ],
   "source": [
    "#Somando e Diferenciando Caracteres de Numeros\n",
    "print (4 + 7)\n",
    "print ('4'+'7' )"
   ]
  },
  {
   "cell_type": "code",
   "execution_count": 6,
   "metadata": {},
   "outputs": [
    {
     "name": "stdout",
     "output_type": "stream",
     "text": [
      "Rodrigo 16 68\n"
     ]
    }
   ],
   "source": [
    "#Criando Input\n",
    "nome = input('Qual é seu Nome?')\n",
    "idade = input('Quantos anos tem você?')\n",
    "peso = input('Quanto voce pesa?')\n",
    "print (nome, idade, peso )"
   ]
  },
  {
   "cell_type": "code",
   "execution_count": 4,
   "metadata": {},
   "outputs": [
    {
     "name": "stdout",
     "output_type": "stream",
     "text": [
      "Oh!! Seja bem vindo Sr. ricaRDO !\n"
     ]
    }
   ],
   "source": [
    "#Desafio-01\n",
    "nome = input('Olá! Qual é Seu nome?')\n",
    "print('Oh!! Seja bem vindo Sr.',nome,'!')"
   ]
  },
  {
   "cell_type": "code",
   "execution_count": 2,
   "metadata": {},
   "outputs": [
    {
     "name": "stdout",
     "output_type": "stream",
     "text": [
      "Quando Você Nasceu?\n",
      "Então você nasceu em:   10 / fevereiro / 2024\n"
     ]
    }
   ],
   "source": [
    "#Desafio-02\n",
    "print('Quando Você Nasceu?')\n",
    "dia = input('Que dia?')\n",
    "mes = input('E qual o mes?')\n",
    "ano = input('Ano?')\n",
    "\n",
    "print('Então você nasceu em:  ',dia,'/',mes,'/',ano)"
   ]
  },
  {
   "cell_type": "code",
   "execution_count": null,
   "metadata": {},
   "outputs": [],
   "source": [
    "#Desafio-03\n"
   ]
  }
 ],
 "metadata": {
  "kernelspec": {
   "display_name": "Python 3",
   "language": "python",
   "name": "python3"
  },
  "language_info": {
   "codemirror_mode": {
    "name": "ipython",
    "version": 3
   },
   "file_extension": ".py",
   "mimetype": "text/x-python",
   "name": "python",
   "nbconvert_exporter": "python",
   "pygments_lexer": "ipython3",
   "version": "3.12.3"
  }
 },
 "nbformat": 4,
 "nbformat_minor": 2
}
